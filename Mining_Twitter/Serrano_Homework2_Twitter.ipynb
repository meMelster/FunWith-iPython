{
 "metadata": {
  "name": "",
  "signature": "sha256:bd6f5e2eb3347c5f9e3c5f78afafd9f7cd22f80d1ceb2b276e79591fb69ff2a6"
 },
 "nbformat": 3,
 "nbformat_minor": 0,
 "worksheets": [
  {
   "cells": [
    {
     "cell_type": "markdown",
     "metadata": {},
     "source": [
      "# Homework 2 - Option 2... #\n",
      "###  Well Kinda....Requirements Modified ###\n",
      "#### Melissa Serrano ###\n",
      "The code below gets the Twitter trends for 5 locations of interest today, by using the countries WOEID.  I used a modified version of pygmaps, available under Issue 5 at https://code.google.com/p/pygmaps/.  This modified version enables the use of labels for the maps pinpoints.  When the user hovers over the pinpoint I display the top 5 trending topics on Twitter for the area indicated by th pin point on the map."
     ]
    },
    {
     "cell_type": "code",
     "collapsed": false,
     "input": [
      "import twitter\n",
      "import json\n",
      "import pygmaps\n",
      "import webbrowser\n",
      "import pprint as pp\n",
      "\n",
      "\n",
      "CONSUMER_KEY = 'qAhZWyyxyi8MQZwxaCKojiC8O'\n",
      "CONSUMER_SECRET = 'vCvQvS8icQpNucs5e42JZ0YqdmZkFg6QeGE3PH1sSUeZYyKzvC'\n",
      "OAUTH_TOKEN = '2892604311-sLujj8H3JB5oHbIVPGZhC2vkZYNbW3CJsh2LICs'\n",
      "OAUTH_TOKEN_SECRET = '9MFpHT1HKFmMyf3XD1UzH8APE0QwpkgbDEqt95GHmWQcw'\n",
      "auth = twitter.OAuth(OAUTH_TOKEN, OAUTH_TOKEN_SECRET, CONSUMER_KEY, CONSUMER_SECRET)\n",
      "twitter_api = twitter.Twitter(auth=auth)\n",
      "\n",
      "\n",
      "#Create a google map with the origin in the center of the laid out world\n",
      "#zoom is 2 so that we can see all countries\n",
      "mymap = pygmaps.maps(0, 0, 3)\n",
      "\n",
      "for i in range(1,6):\n",
      "    if i == 1:\n",
      "        #Israel\n",
      "        name = 'Israel'\n",
      "        trends = twitter_api.trends.place(_id=23424852)\n",
      "        lat = 31.00\n",
      "        lon = 35.00\n",
      "    if i == 2:\n",
      "        #Mexico\n",
      "        name = 'Mexico'\n",
      "        trends = twitter_api.trends.place(_id=23424900)\n",
      "        lat = 19.428\n",
      "        lon = -99.127\n",
      "    if i == 3:\n",
      "        #Brazil\n",
      "        name = 'Brazil'\n",
      "        trends = twitter_api.trends.place(_id=23424768)\n",
      "        lat = -15.7797\n",
      "        lon = -47.9297\n",
      "    if i == 4:\n",
      "        #France\n",
      "        name = 'France'\n",
      "        trends = twitter_api.trends.place(_id=23424819)\n",
      "        lat = 48.8534\n",
      "        lon = 2.3488\n",
      "    if i == 5:\n",
      "        #Russia\n",
      "        name = 'Russia'\n",
      "        trends = twitter_api.trends.place(_id=23424936)\n",
      "        lat = 60.00\n",
      "        lon = 90.00\n",
      "\n",
      "    stop = len(trends[0]['trends'])\n",
      "    print stop\n",
      "    trendsLabel = [None]*5\n",
      "    for i in range(0,stop):\n",
      "        try:\n",
      "            trendsLabel[i] = trends[0]['trends'][i]['name']\n",
      "            print i\n",
      "        except KeyError, e:\n",
      "            print e\n",
      "        finally:\n",
      "            if i == 5:\n",
      "                break\n",
      "    pp.pprint(trendsLabel)\n",
      "    mymap.addpoint(lat, lon, \"#FF0000\", str(trendsLabel))\n",
      "    print\n",
      "\n",
      "\n",
      "\n",
      "#draw the google map with all our coordinates on it \n",
      "#and save it in this directory    \n",
      "mymap.draw('./mymap.html')\n",
      "#open this file in the browser automatically\n",
      "webbrowser.open_new('mymap.html')\n",
      "\n",
      "#Display the map here in the ipython document\n",
      "from IPython.display import HTML\n",
      "HTML('<iframe src=\"mymap.html\" height=500 width=750></iframe>')"
     ],
     "language": "python",
     "metadata": {},
     "outputs": [
      {
       "output_type": "stream",
       "stream": "stdout",
       "text": [
        "10\n",
        "0\n",
        "1\n",
        "2\n",
        "3\n",
        "4\n",
        "[u'#\\u05e2\\u05de\\u05d5\\u05ea\\u05d5\\u05ea_\\u05e9\\u05e4\\u05d7\\u05d5\\u05ea_\\u05d4\\u05e6\\u05dc\\u05d9\\u05d7\\u05d5',\n",
        " u'#israelquierebailarconlali',\n",
        " u'#GrowingUpWithMyName',\n",
        " u'#LouisAppreciationDay',\n",
        " u'#SophiamIsEngaged']\n",
        "\n",
        "10"
       ]
      },
      {
       "output_type": "stream",
       "stream": "stdout",
       "text": [
        "\n",
        "0\n",
        "1\n",
        "2\n",
        "3\n",
        "4\n",
        "[u'#NoEraPenal',\n",
        " u'#Ostula',\n",
        " u'Piojo',\n",
        " u'#LiamAppreciationDay',\n",
        " u'#CompartimosLaEmocion']\n",
        "\n",
        "10"
       ]
      },
      {
       "output_type": "stream",
       "stream": "stdout",
       "text": [
        "\n",
        "0\n",
        "1\n",
        "2\n",
        "3\n",
        "4\n",
        "[u'#LiamAppreciationDay',\n",
        " u'#majuresponde',\n",
        " u'#PanicoNaBand',\n",
        " u'#StayStrongCarter',\n",
        " u'silvio santos']\n",
        "\n",
        "10"
       ]
      },
      {
       "output_type": "stream",
       "stream": "stdout",
       "text": [
        "\n",
        "0\n",
        "1\n",
        "2\n",
        "3\n",
        "4\n",
        "[u'#WWEBattleground',\n",
        " u'#LiamAppreciationDay',\n",
        " u'Maggie',\n",
        " u'#growingupshy',\n",
        " u'#enqueteexclusive']\n",
        "\n",
        "10"
       ]
      },
      {
       "output_type": "stream",
       "stream": "stdout",
       "text": [
        "\n",
        "0\n",
        "1\n",
        "2\n",
        "3\n",
        "4\n",
        "[u'#LarryIsReal',\n",
        " u'#LiamAppreciationDay',\n",
        " u'#GrowingUpWithMyName',\n",
        " u'#HappyBirthdayJaredPadalecki',\n",
        " u'#\\u0420\\u043e\\u0441\\u0441\\u0438\\u044f\\u0418\\u0441\\u043f\\u0430\\u043d\\u0438\\u044f']\n",
        "\n"
       ]
      },
      {
       "html": [
        "<iframe src=\"mymap.html\" height=500 width=750></iframe>"
       ],
       "metadata": {},
       "output_type": "pyout",
       "prompt_number": 6,
       "text": [
        "<IPython.core.display.HTML at 0x3a15e10>"
       ]
      }
     ],
     "prompt_number": 6
    },
    {
     "cell_type": "code",
     "collapsed": false,
     "input": [],
     "language": "python",
     "metadata": {},
     "outputs": []
    }
   ],
   "metadata": {}
  }
 ]
}